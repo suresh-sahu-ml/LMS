{
  "nbformat": 4,
  "nbformat_minor": 0,
  "metadata": {
    "colab": {
      "provenance": [],
      "toc_visible": true
    },
    "kernelspec": {
      "name": "python3",
      "display_name": "Python 3"
    },
    "language_info": {
      "name": "python"
    }
  },
  "cells": [
    {
      "cell_type": "code",
      "source": [
        "StudentID = int\n",
        "StudentRecord = tuple[str, dict[str, int]]\n",
        "Database = dict[StudentID, StudentRecord]"
      ],
      "metadata": {
        "id": "iBYNrJBiQJ6T"
      },
      "execution_count": 42,
      "outputs": []
    },
    {
      "cell_type": "code",
      "source": [
        "students_db: Database = {}"
      ],
      "metadata": {
        "id": "aMC-jtrLQN0d"
      },
      "execution_count": 43,
      "outputs": []
    },
    {
      "cell_type": "code",
      "source": [
        "def add_student(db: Database) -> None:\n",
        "  student_id:int = int(input(\"Please enter the student id:\"))\n",
        "  if(student_id in db):\n",
        "    print(\"Record already exists\")\n",
        "    return\n",
        "  student_name:str = input(\"Please enter the student name:\")\n",
        "  no_of_subjects:int = int(input(\"Please enter no. of subjects: \"))\n",
        "\n",
        "  subjects:dict[str,int] = {}\n",
        "  for _ in range(no_of_subjects):\n",
        "    subject_name:str = input(\"Please enter the subject name:\")\n",
        "    marks:int = int(input(\"Please enter the marks:\"))\n",
        "    subjects[subject_name] = marks\n",
        "  db[student_id] = (student_name, subjects)\n",
        "  print(\"Record added successfully\")\n"
      ],
      "metadata": {
        "id": "L3frFqv-RGMS"
      },
      "execution_count": 44,
      "outputs": []
    },
    {
      "cell_type": "code",
      "source": [
        "def view_student(db:Database) -> None:\n",
        "  if not db:\n",
        "    print(\"No students in database\")\n",
        "    return\n",
        "\n",
        "  for student_id, (student_name, subject) in db.items():\n",
        "    print(f\"\\nStudent Id:{student_id},Student_Name:{student_name}\")\n",
        "    for subject_name, marks in subject.items():\n",
        "      print(f\"Subject Name:{subject_name},Marks:{marks}\")\n"
      ],
      "metadata": {
        "id": "F2qNAvtPWI66"
      },
      "execution_count": 45,
      "outputs": []
    },
    {
      "cell_type": "code",
      "source": [
        "def search_student(db:Database) -> None:\n",
        "  student_id:int = int(input(\"Please enter the student id:\"))\n",
        "  if(student_id not in db):\n",
        "    print(\"Student does not exist\")\n",
        "    return\n",
        "\n",
        "  student_name, subject = db[student_id]\n",
        "  for subject_name, marks in subject.items():\n",
        "    print(f\"Subject Name:{subject_name},Marks:{marks}\")\n",
        "\n"
      ],
      "metadata": {
        "id": "kUGqYEY7c5Ga"
      },
      "execution_count": 46,
      "outputs": []
    },
    {
      "cell_type": "code",
      "source": [
        "def delete_student(db:Database) -> None:\n",
        "  student_id:int = int(input(\"Please enter the student id:\"))\n",
        "  if(student_id not in db):\n",
        "    print(\"Student does not exist\")\n",
        "    return\n",
        "  del db[student_id]\n",
        "  print(f\"Student with id {student_id} deleted successfully\")"
      ],
      "metadata": {
        "id": "qgLv2tpuncsg"
      },
      "execution_count": 47,
      "outputs": []
    },
    {
      "cell_type": "code",
      "source": [
        "def find_topper(db:Database) -> None:\n",
        "  if(len(db) < 1):\n",
        "    print(\"No topper available\")\n",
        "    return\n",
        "  total:int = 0; avg:int = 0; max:int = 0\n",
        "  for student_id, (name, subject) in db.items():\n",
        "    print(subject.values())\n",
        "    for subject_name, marks in subject.items():\n",
        "      total += marks\n",
        "    avg = total/len(subject.values())\n",
        "    print(avg)\n",
        "    if(avg > max):\n",
        "      topper:str = student_id\n",
        "      max = avg\n",
        "    total = 0\n",
        "  print(f\"topper:{topper}\")"
      ],
      "metadata": {
        "id": "hBTZNd8QqvQ9"
      },
      "execution_count": 48,
      "outputs": []
    },
    {
      "cell_type": "code",
      "source": [
        "def run_app() -> None:\n",
        "  while True:\n",
        "    print(\"1.Add a student\")\n",
        "    print(\"2.View students\")\n",
        "    print(\"3.Search a student\")\n",
        "    print(\"4.Delete a student\")\n",
        "    print(\"5.View Topper\")\n",
        "    print(\"6.Exit\")\n",
        "    choice:int = int(input(\"Enter your choice:\"))\n",
        "    if(choice == 1):\n",
        "      add_student(students_db)\n",
        "    elif(choice == 2):\n",
        "      view_student(students_db)\n",
        "    elif(choice == 3):\n",
        "      search_student(students_db)\n",
        "    elif(choice == 4):\n",
        "      delete_student(students_db)\n",
        "    elif(choice == 5):\n",
        "      find_topper(students_db)\n",
        "    else:\n",
        "      break"
      ],
      "metadata": {
        "id": "wOsD3pgqYOZv"
      },
      "execution_count": 49,
      "outputs": []
    },
    {
      "cell_type": "code",
      "source": [
        "run_app()"
      ],
      "metadata": {
        "colab": {
          "base_uri": "https://localhost:8080/"
        },
        "id": "id3qzJ0DVclD",
        "outputId": "1a1d7b41-f6ee-4c77-e0d0-24d585b3eda7"
      },
      "execution_count": null,
      "outputs": [
        {
          "output_type": "stream",
          "name": "stdout",
          "text": [
            "1.Add a student\n",
            "2.View students\n",
            "3.Search a student\n",
            "4.Delete a student\n",
            "5.View Topper\n",
            "6.Exit\n"
          ]
        }
      ]
    }
  ]
}